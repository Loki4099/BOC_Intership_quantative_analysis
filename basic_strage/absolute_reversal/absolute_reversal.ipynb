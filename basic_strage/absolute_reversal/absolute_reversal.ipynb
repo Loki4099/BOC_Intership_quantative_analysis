{
 "cells": [
  {
   "cell_type": "code",
   "execution_count": 1,
   "id": "a9b80db8",
   "metadata": {},
   "outputs": [],
   "source": [
    "import pandas as pd\n",
    "import seaborn as sns\n",
    "import matplotlib.pyplot as plt\n",
    "import matplotlib.dates as mdates\n",
    "from statsmodels.graphics.tsaplots import plot_acf, plot_pacf\n",
    "import numpy as np\n",
    "from scipy.stats import spearmanr\n",
    "from statsmodels.graphics.tsaplots import plot_acf\n",
    "import itertools\n",
    "from itertools import product\n",
    "import warnings\n",
    "warnings.filterwarnings('ignore')  # 关闭所有警告\n",
    "\n",
    "plt.rcParams['font.sans-serif'] = ['SimHei']  # 设置中文字体为 SimHei\n",
    "plt.rcParams['axes.unicode_minus'] = False    # 正常显示负号"
   ]
  },
  {
   "cell_type": "code",
   "execution_count": 2,
   "id": "29d84a6e",
   "metadata": {},
   "outputs": [
    {
     "name": "stdout",
     "output_type": "stream",
     "text": [
      "Sheet names: ['收盘价', '自由流通换手率']\n"
     ]
    }
   ],
   "source": [
    "# 读取 Excel 文件\n",
    "file_path = 'data.xlsx'\n",
    "\n",
    "# 查看文件内所有sheet名，确认需要读取的sheet\n",
    "xls = pd.ExcelFile(file_path)\n",
    "print(\"Sheet names:\", xls.sheet_names)"
   ]
  },
  {
   "cell_type": "code",
   "execution_count": 3,
   "id": "39d0b528",
   "metadata": {},
   "outputs": [],
   "source": [
    "# 读取 sheet1\n",
    "df = pd.read_excel(file_path, sheet_name='收盘价')"
   ]
  },
  {
   "cell_type": "code",
   "execution_count": 4,
   "id": "ad006836",
   "metadata": {},
   "outputs": [
    {
     "name": "stdout",
     "output_type": "stream",
     "text": [
      "               50收益  中证1000全收益     800收益\n",
      "date                                    \n",
      "2005-01-04  835.130    989.984  983.8953\n",
      "2005-01-05  839.529   1013.583  995.5764\n",
      "2005-01-06  830.513   1005.466  986.2162\n",
      "2005-01-07  831.641   1011.740  987.6929\n",
      "2005-01-10  841.102   1023.638  997.1864\n",
      "DatetimeIndex(['2005-01-04', '2005-01-05', '2005-01-06', '2005-01-07',\n",
      "               '2005-01-10', '2005-01-11', '2005-01-12', '2005-01-13',\n",
      "               '2005-01-14', '2005-01-17',\n",
      "               ...\n",
      "               '2025-06-16', '2025-06-17', '2025-06-18', '2025-06-19',\n",
      "               '2025-06-20', '2025-06-23', '2025-06-24', '2025-06-25',\n",
      "               '2025-06-26', '2025-06-27'],\n",
      "              dtype='datetime64[ns]', name='date', length=4974, freq=None)\n"
     ]
    }
   ],
   "source": [
    "# 将第一列（日期列）重命名为 'date'\n",
    "df.rename(columns={'Unnamed: 0': 'date'}, inplace=True)\n",
    "\n",
    "# 将 'date' 转换为 datetime 格式\n",
    "df['date'] = pd.to_datetime(df['date'])\n",
    "\n",
    "# 设置为 index\n",
    "df = df.set_index('date')\n",
    "\n",
    "# 检查结果\n",
    "print(df.head())\n",
    "print(df.index)"
   ]
  },
  {
   "cell_type": "markdown",
   "id": "01418a10",
   "metadata": {},
   "source": [
    "## 绝对反转"
   ]
  },
  {
   "cell_type": "code",
   "execution_count": 5,
   "id": "1ad0901a",
   "metadata": {},
   "outputs": [],
   "source": [
    "def absolute_reversal_strategy_monthly(df, window=10):\n",
    "    \"\"\"\n",
    "    绝对反转策略（月度调仓版本），只看中证1000动量，总仓位=1\n",
    "\n",
    "    参数:\n",
    "    - df: DataFrame，包含 '50收益' 和 '中证1000全收益' 列\n",
    "    - window: int，计算动量的窗口期\n",
    "\n",
    "    返回:\n",
    "    - position_df: DataFrame，包含 'position_50' 和 'position_1000' 两列，总仓位=1\n",
    "    \"\"\"\n",
    "\n",
    "    # === 1) 计算中证1000动量 ===\n",
    "    r_1000 = df['中证1000全收益'].pct_change(periods=window).shift(1)\n",
    "\n",
    "    # === 2) 提取每月最后一个交易日 ===\n",
    "    month_end_dates = df.resample('M').last().index\n",
    "\n",
    "    # === 3) 初始化仓位 ===\n",
    "    position_50 = pd.Series(0, index=df.index, dtype='float64')\n",
    "    position_1000 = pd.Series(0, index=df.index, dtype='float64')\n",
    "\n",
    "    # === 4) 根据信号更新仓位 ===\n",
    "    current_pos_50 = 1  # 默认初始持仓50\n",
    "    current_pos_1000 = 0\n",
    "\n",
    "    for date in df.index:\n",
    "        if date in month_end_dates:\n",
    "            signal_date = df.index[df.index.get_loc(date) - 1]\n",
    "            if r_1000.loc[signal_date] > 0:\n",
    "                # 动量>0 ➔ 反向配置50\n",
    "                current_pos_50 = 1\n",
    "                current_pos_1000 = 0\n",
    "            else:\n",
    "                # 动量<=0 ➔ 反向配置1000\n",
    "                current_pos_50 = 0\n",
    "                current_pos_1000 = 1\n",
    "\n",
    "        position_50.loc[date] = current_pos_50\n",
    "        position_1000.loc[date] = current_pos_1000\n",
    "\n",
    "    position_df = pd.DataFrame({\n",
    "        'position_50': position_50,\n",
    "        'position_1000': position_1000\n",
    "    }, index=df.index)\n",
    "\n",
    "    return position_df\n"
   ]
  },
  {
   "cell_type": "markdown",
   "id": "bdb1bd78",
   "metadata": {},
   "source": [
    "## 主程序"
   ]
  },
  {
   "cell_type": "code",
   "execution_count": 6,
   "id": "e90fcc31",
   "metadata": {},
   "outputs": [
    {
     "name": "stdout",
     "output_type": "stream",
     "text": [
      "✅ 绝对反转策略超额净值全部计算完成，Excel 输出完成。\n"
     ]
    }
   ],
   "source": [
    "window_list = [5, 10, 15, 21, 42, 63, 186, 252]\n",
    "\n",
    "# 创建最终结果 DataFrame，先复制 index\n",
    "final_df = pd.DataFrame()\n",
    "final_df['date'] = df.index\n",
    "\n",
    "# 计算每日各指数收益率（提前计算，提高效率）\n",
    "returns_50_all = df['50收益'].pct_change()\n",
    "returns_1000_all = df['中证1000全收益'].pct_change()\n",
    "returns_800_all = df['800收益'].pct_change()\n",
    "\n",
    "# 定义 start_date，确保最长 window 有足够历史\n",
    "max_window = max(window_list)\n",
    "start_date = pd.Timestamp('2006-03-01')\n",
    "\n",
    "for window in window_list:\n",
    "    # 计算仓位\n",
    "    position_df = absolute_reversal_strategy_monthly(df, window=window)\n",
    "    \n",
    "    # 仅保留 start_date 之后的仓位\n",
    "    position_df = position_df[position_df.index >= start_date]\n",
    "\n",
    "    # 同样仅保留 start_date 之后的收益率\n",
    "    returns_50 = returns_50_all[returns_50_all.index >= start_date]\n",
    "    returns_1000 = returns_1000_all[returns_1000_all.index >= start_date]\n",
    "    returns_800 = returns_800_all[returns_800_all.index >= start_date]\n",
    "\n",
    "    # 计算组合收益率\n",
    "    portfolio_returns = position_df['position_50'] * returns_50 + position_df['position_1000'] * returns_1000\n",
    "    portfolio_returns = portfolio_returns.fillna(0)\n",
    "\n",
    "    # 计算超额收益率\n",
    "    excess_returns = portfolio_returns - returns_800\n",
    "    excess_returns = excess_returns.fillna(0)\n",
    "\n",
    "    # 计算超额净值\n",
    "    excess_nav = (1 + excess_returns).cumprod()\n",
    "\n",
    "    # ========== 画图 ==========\n",
    "    plt.figure(figsize=(10,6))\n",
    "    plt.plot(excess_nav.index, excess_nav.values, label=f'Window={window}')\n",
    "    plt.title(f'绝对反转策略超额净值曲线 (window={window})')\n",
    "    plt.xlabel('Date')\n",
    "    plt.ylabel('Excess NAV')\n",
    "    plt.legend()\n",
    "    plt.grid(True)\n",
    "    plt.tight_layout()\n",
    "    plt.savefig(f'absolute_reversal_excess_nav_window_{window}.png')\n",
    "    plt.close()\n",
    "\n",
    "    # 将当前 window 的 excess_nav 结果 merge 到 final_df\n",
    "    final_df = final_df.merge(excess_nav.rename(f'excess_nav_window_{window}'), left_on='date', right_index=True, how='left')\n",
    "\n",
    "\n",
    "final_df = final_df[final_df['date'] >= start_date]\n",
    "\n",
    "# ========== 导出到 Excel ==========\n",
    "final_df.to_excel('absolute_reversal_excess_results.xlsx', index=False)\n",
    "\n",
    "print(\"✅ 绝对反转策略超额净值全部计算完成，Excel 输出完成。\")"
   ]
  }
 ],
 "metadata": {
  "kernelspec": {
   "display_name": "base",
   "language": "python",
   "name": "python3"
  },
  "language_info": {
   "codemirror_mode": {
    "name": "ipython",
    "version": 3
   },
   "file_extension": ".py",
   "mimetype": "text/x-python",
   "name": "python",
   "nbconvert_exporter": "python",
   "pygments_lexer": "ipython3",
   "version": "3.12.7"
  }
 },
 "nbformat": 4,
 "nbformat_minor": 5
}
